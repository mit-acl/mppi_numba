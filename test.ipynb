{
 "cells": [
  {
   "cell_type": "code",
   "execution_count": 1,
   "metadata": {},
   "outputs": [],
   "source": [
    "import numpy as np"
   ]
  },
  {
   "cell_type": "code",
   "execution_count": 6,
   "metadata": {},
   "outputs": [],
   "source": [
    "pmf = np.random.rand(4, 3, 5)\n",
    "pmf /= pmf.sum(axis=0)"
   ]
  },
  {
   "cell_type": "code",
   "execution_count": 9,
   "metadata": {},
   "outputs": [
    {
     "data": {
      "text/plain": [
       "array([[[0.33279483, 0.34850029, 0.29041975, 0.4676485 , 0.71549819],\n",
       "        [0.32471373, 0.36582343, 0.22159705, 0.28193439, 0.13149384],\n",
       "        [0.08971053, 0.36562338, 0.31015198, 0.20228407, 0.01857259]],\n",
       "\n",
       "       [[0.19125451, 0.12667331, 0.37656777, 0.06217157, 0.0337643 ],\n",
       "        [0.21521438, 0.24590104, 0.02069853, 0.0780569 , 0.37514713],\n",
       "        [0.28565046, 0.10343775, 0.13663104, 0.31034784, 0.37734654]],\n",
       "\n",
       "       [[0.17876219, 0.23523022, 0.16385109, 0.27212364, 0.20501235],\n",
       "        [0.02597723, 0.02419103, 0.28024268, 0.18704103, 0.18216545],\n",
       "        [0.46285354, 0.35576218, 0.25711711, 0.06537547, 0.49429157]],\n",
       "\n",
       "       [[0.29718848, 0.28959618, 0.16916139, 0.19805629, 0.04572515],\n",
       "        [0.43409466, 0.36408451, 0.47746174, 0.45296768, 0.31119358],\n",
       "        [0.16178547, 0.17517669, 0.29609987, 0.42199261, 0.10978931]]])"
      ]
     },
     "execution_count": 9,
     "metadata": {},
     "output_type": "execute_result"
    }
   ],
   "source": [
    "pmf"
   ]
  },
  {
   "cell_type": "code",
   "execution_count": 43,
   "metadata": {},
   "outputs": [
    {
     "data": {
      "text/plain": [
       "array([[[False, False, False, False,  True],\n",
       "        [False, False, False, False, False],\n",
       "        [False, False, False, False, False]],\n",
       "\n",
       "       [[ True, False,  True,  True,  True],\n",
       "        [ True,  True, False, False,  True],\n",
       "        [False, False, False,  True, False]],\n",
       "\n",
       "       [[ True,  True,  True,  True,  True],\n",
       "        [ True,  True,  True,  True,  True],\n",
       "        [ True,  True,  True,  True,  True]],\n",
       "\n",
       "       [[ True,  True,  True,  True,  True],\n",
       "        [ True,  True,  True,  True,  True],\n",
       "        [ True,  True,  True,  True,  True]]])"
      ]
     },
     "execution_count": 43,
     "metadata": {},
     "output_type": "execute_result"
    }
   ],
   "source": [
    "pmf.cumsum(axis=0)>=0.5"
   ]
  },
  {
   "cell_type": "code",
   "execution_count": 61,
   "metadata": {},
   "outputs": [
    {
     "name": "stdout",
     "output_type": "stream",
     "text": [
      "[[1 2 1 1 0]\n",
      " [1 1 2 2 1]\n",
      " [2 2 2 1 2]]\n",
      "[[[  0.   0.   0.   0. 100.]\n",
      "  [  0.   0.   0.   0.   0.]\n",
      "  [  0.   0.   0.   0.   0.]]\n",
      "\n",
      " [[100.   0. 100. 100.   0.]\n",
      "  [100. 100.   0.   0. 100.]\n",
      "  [  0.   0.   0. 100.   0.]]\n",
      "\n",
      " [[  0. 100.   0.   0.   0.]\n",
      "  [  0.   0. 100. 100.   0.]\n",
      "  [100. 100. 100.   0. 100.]]\n",
      "\n",
      " [[  0.   0.   0.   0.   0.]\n",
      "  [  0.   0.   0.   0.   0.]\n",
      "  [  0.   0.   0.   0.   0.]]]\n"
     ]
    }
   ],
   "source": [
    "which_layer = np.argmax(pmf.cumsum(axis=0)>=0.5, axis=0)\n",
    "print(which_layer)\n",
    "l, num_rows, num_cols = pmf.shape\n",
    "output = np.zeros_like(pmf)\n",
    "output[which_layer.ravel(), np.repeat(np.arange(num_rows), num_cols), np.tile(np.arange(num_cols), num_rows)] = 100\n",
    "print(output)\n",
    "assert (np.sum(output, axis=0)==(np.ones((num_rows, num_cols))*100)).all()"
   ]
  },
  {
   "cell_type": "code",
   "execution_count": null,
   "metadata": {},
   "outputs": [],
   "source": []
  }
 ],
 "metadata": {
  "kernelspec": {
   "display_name": "Python 3.8.10 64-bit",
   "language": "python",
   "name": "python3"
  },
  "language_info": {
   "codemirror_mode": {
    "name": "ipython",
    "version": 3
   },
   "file_extension": ".py",
   "mimetype": "text/x-python",
   "name": "python",
   "nbconvert_exporter": "python",
   "pygments_lexer": "ipython3",
   "version": "3.8.10"
  },
  "orig_nbformat": 4,
  "vscode": {
   "interpreter": {
    "hash": "916dbcbb3f70747c44a77c7bcd40155683ae19c65e1c03b4aa3499c5328201f1"
   }
  }
 },
 "nbformat": 4,
 "nbformat_minor": 2
}
